{
  "nbformat": 4,
  "nbformat_minor": 0,
  "metadata": {
    "colab": {
      "provenance": [],
      "authorship_tag": "ABX9TyPVxyFy2V4lLfS7RnTpqzKm",
      "include_colab_link": true
    },
    "kernelspec": {
      "name": "python3",
      "display_name": "Python 3"
    },
    "language_info": {
      "name": "python"
    }
  },
  "cells": [
    {
      "cell_type": "markdown",
      "metadata": {
        "id": "view-in-github",
        "colab_type": "text"
      },
      "source": [
        "<a href=\"https://colab.research.google.com/github/euamandaguimaraes/-on33-python-s01-conceitos-iniciais/blob/main/Atividade_On33_Estat%C3%ADstica_Semana_10.ipynb\" target=\"_parent\"><img src=\"https://colab.research.google.com/assets/colab-badge.svg\" alt=\"Open In Colab\"/></a>"
      ]
    },
    {
      "cell_type": "code",
      "execution_count": 7,
      "metadata": {
        "colab": {
          "base_uri": "https://localhost:8080/"
        },
        "id": "umt79XkzYy_D",
        "outputId": "fc670170-f622-4a0c-b981-a1691e4aa0f1"
      },
      "outputs": [
        {
          "output_type": "stream",
          "name": "stdout",
          "text": [
            "Estatística Qui-Quadrado: 42276.55681191326\n",
            "Valor p: 0.0\n"
          ]
        }
      ],
      "source": [
        "from scipy.stats import chi2_contingency\n",
        "\n",
        "#Dados (tabela de contingência)\n",
        "observed = [[11416076, 40101950, 11667250, 65510053, 22126530], [212994, 656000, 236318, 1450382, 454588]]\n",
        "\n",
        "#Teste de hipóteses\n",
        "chi2_stat, p_value, dof, expected = chi2_contingency(observed)\n",
        "\n",
        "print(\"Estatística Qui-Quadrado:\", chi2_stat)\n",
        "print(\"Valor p:\", p_value)\n"
      ]
    }
  ]
}